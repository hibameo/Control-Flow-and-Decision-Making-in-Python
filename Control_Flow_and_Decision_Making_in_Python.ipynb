{
  "nbformat": 4,
  "nbformat_minor": 0,
  "metadata": {
    "colab": {
      "provenance": [],
      "authorship_tag": "ABX9TyOv26OyCPWxYORw1RXgLXdL",
      "include_colab_link": true
    },
    "kernelspec": {
      "name": "python3",
      "display_name": "Python 3"
    },
    "language_info": {
      "name": "python"
    }
  },
  "cells": [
    {
      "cell_type": "markdown",
      "metadata": {
        "id": "view-in-github",
        "colab_type": "text"
      },
      "source": [
        "<a href=\"https://colab.research.google.com/github/hibameo/Control-Flow-and-Decision-Making-in-Python/blob/main/Control_Flow_and_Decision_Making_in_Python.ipynb\" target=\"_parent\"><img src=\"https://colab.research.google.com/assets/colab-badge.svg\" alt=\"Open In Colab\"/></a>"
      ]
    },
    {
      "cell_type": "markdown",
      "source": [
        "Control Flow and Decision Making in Python"
      ],
      "metadata": {
        "id": "2Bqh2hJIzvke"
      }
    },
    {
      "cell_type": "markdown",
      "source": [
        "Control flow and decision making in Python are essential for controlling the execution of your code based on certain conditions. Here’s a breakdown:"
      ],
      "metadata": {
        "id": "hprYxdqrzzgh"
      }
    },
    {
      "cell_type": "markdown",
      "source": [
        "1. If-Else Statements"
      ],
      "metadata": {
        "id": "xhLmVOWqz12i"
      }
    },
    {
      "cell_type": "markdown",
      "source": [
        "The if statement allows you to check a condition and execute a block of code only if that condition is True. If the condition is False, the else block is executed."
      ],
      "metadata": {
        "id": "P9lnNxB_z5A3"
      }
    },
    {
      "cell_type": "code",
      "source": [
        "age = 18\n",
        "\n",
        "if age >= 18:\n",
        "    print(\"You are an adult.\")\n",
        "else:\n",
        "    print(\"You are a minor.\")\n"
      ],
      "metadata": {
        "colab": {
          "base_uri": "https://localhost:8080/"
        },
        "id": "AcND4Umdz6mt",
        "outputId": "539a8354-955e-4969-dcaa-3676fa3c2388"
      },
      "execution_count": 1,
      "outputs": [
        {
          "output_type": "stream",
          "name": "stdout",
          "text": [
            "You are an adult.\n"
          ]
        }
      ]
    },
    {
      "cell_type": "markdown",
      "source": [
        "2. Elif (Else-If) Statement"
      ],
      "metadata": {
        "id": "ZcMcHggZz_O_"
      }
    },
    {
      "cell_type": "markdown",
      "source": [
        "elif is used to check multiple conditions. If the if condition is False, the program checks the next elif condition. If none of the conditions are True, the else block is executed."
      ],
      "metadata": {
        "id": "N3Lg5K0J0C7m"
      }
    },
    {
      "cell_type": "code",
      "source": [
        "age = 20\n",
        "\n",
        "if age < 18:\n",
        "    print(\"You are a minor.\")\n",
        "elif age < 60:\n",
        "    print(\"You are an adult.\")\n",
        "else:\n",
        "    print(\"You are a senior citizen.\")\n"
      ],
      "metadata": {
        "colab": {
          "base_uri": "https://localhost:8080/"
        },
        "id": "8LAd_cDZ0F9Q",
        "outputId": "21a56f08-50c0-4da7-e399-51484f8d45e4"
      },
      "execution_count": 2,
      "outputs": [
        {
          "output_type": "stream",
          "name": "stdout",
          "text": [
            "You are an adult.\n"
          ]
        }
      ]
    },
    {
      "cell_type": "markdown",
      "source": [
        "3. Logical Operators"
      ],
      "metadata": {
        "id": "1WfWCDeT0InY"
      }
    },
    {
      "cell_type": "markdown",
      "source": [
        "You can combine multiple conditions using logical operators like and, or, and not.\n",
        "\n",
        "and: Both conditions must be True.\n",
        "\n",
        "or: At least one condition must be True.\n",
        "\n",
        "not: Inverts the condition."
      ],
      "metadata": {
        "id": "x92byYC30LqK"
      }
    },
    {
      "cell_type": "code",
      "source": [
        "age = 25\n",
        "has_license = True\n",
        "\n",
        "if age >= 18 and has_license:\n",
        "    print(\"You can drive.\")\n",
        "else:\n",
        "    print(\"You cannot drive.\")\n"
      ],
      "metadata": {
        "colab": {
          "base_uri": "https://localhost:8080/"
        },
        "id": "KGj_6s1b0NnT",
        "outputId": "87b9480f-798a-405b-c5e8-0465f4a3b63c"
      },
      "execution_count": 3,
      "outputs": [
        {
          "output_type": "stream",
          "name": "stdout",
          "text": [
            "You can drive.\n"
          ]
        }
      ]
    },
    {
      "cell_type": "markdown",
      "source": [
        "4. Nested If-Else"
      ],
      "metadata": {
        "id": "il3Q74Ve0lDa"
      }
    },
    {
      "cell_type": "markdown",
      "source": [
        "You can place one if statement inside another to check multiple conditions."
      ],
      "metadata": {
        "id": "WH0tXx1p0n7E"
      }
    },
    {
      "cell_type": "code",
      "source": [
        "age = 22\n",
        "citizenship = \"US\"\n",
        "\n",
        "if age >= 18:\n",
        "    if citizenship == \"US\":\n",
        "        print(\"You can vote in the US.\")\n",
        "    else:\n",
        "        print(\"You can't vote in the US.\")\n",
        "else:\n",
        "    print(\"You are too young to vote.\")\n"
      ],
      "metadata": {
        "colab": {
          "base_uri": "https://localhost:8080/"
        },
        "id": "Qd_Vp5ex0pXV",
        "outputId": "d1cb0d28-f4f8-4560-ff4c-7f78e9c836b9"
      },
      "execution_count": 4,
      "outputs": [
        {
          "output_type": "stream",
          "name": "stdout",
          "text": [
            "You can vote in the US.\n"
          ]
        }
      ]
    },
    {
      "cell_type": "markdown",
      "source": [
        "5. Ternary Operator"
      ],
      "metadata": {
        "id": "ly3Ot4JB0s9C"
      }
    },
    {
      "cell_type": "markdown",
      "source": [
        "A shorthand for if-else used in a single line. It follows the structure value_if_true if condition else value_if_false."
      ],
      "metadata": {
        "id": "mz3cycjb0vpl"
      }
    },
    {
      "cell_type": "code",
      "source": [
        "age = 18\n",
        "status = \"Adult\" if age >= 18 else \"Minor\"\n",
        "print(status)\n"
      ],
      "metadata": {
        "colab": {
          "base_uri": "https://localhost:8080/"
        },
        "id": "bumxHlr_0yN7",
        "outputId": "9328418e-788f-4c84-8f0e-c20349d279ec"
      },
      "execution_count": 5,
      "outputs": [
        {
          "output_type": "stream",
          "name": "stdout",
          "text": [
            "Adult\n"
          ]
        }
      ]
    },
    {
      "cell_type": "markdown",
      "source": [
        "These are the basic control flow and decision-making structures in Python! They allow you to control how your program behaves based on specific condition"
      ],
      "metadata": {
        "id": "mrfNVJEY06rf"
      }
    }
  ]
}